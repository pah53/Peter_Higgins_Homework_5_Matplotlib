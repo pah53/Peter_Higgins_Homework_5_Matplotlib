{
 "cells": [
  {
   "cell_type": "markdown",
   "metadata": {},
   "source": [
    "## Observations and Insights"
   ]
  },
  {
   "cell_type": "markdown",
   "metadata": {},
   "source": []
  },
  {
   "cell_type": "markdown",
   "metadata": {},
   "source": [
    "## Dependencies and starter code"
   ]
  },
  {
   "cell_type": "code",
   "execution_count": 2,
   "metadata": {},
   "outputs": [
    {
     "name": "stdout",
     "output_type": "stream",
     "text": [
      "     Mouse ID Drug Regimen   Sex  Age_months  Weight (g)  Timepoint  \\\n",
      "0        k403     Ramicane  Male          21          16          0   \n",
      "1        k403     Ramicane  Male          21          16          5   \n",
      "2        k403     Ramicane  Male          21          16         10   \n",
      "3        k403     Ramicane  Male          21          16         15   \n",
      "4        k403     Ramicane  Male          21          16         20   \n",
      "...       ...          ...   ...         ...         ...        ...   \n",
      "1888     z969     Naftisol  Male           9          30         25   \n",
      "1889     z969     Naftisol  Male           9          30         30   \n",
      "1890     z969     Naftisol  Male           9          30         35   \n",
      "1891     z969     Naftisol  Male           9          30         40   \n",
      "1892     z969     Naftisol  Male           9          30         45   \n",
      "\n",
      "      Tumor Volume (mm3)  Metastatic Sites  \n",
      "0              45.000000                 0  \n",
      "1              38.825898                 0  \n",
      "2              35.014271                 1  \n",
      "3              34.223992                 1  \n",
      "4              32.997729                 1  \n",
      "...                  ...               ...  \n",
      "1888           63.145652                 2  \n",
      "1889           65.841013                 3  \n",
      "1890           69.176246                 4  \n",
      "1891           70.314904                 4  \n",
      "1892           73.867845                 4  \n",
      "\n",
      "[1893 rows x 8 columns]\n"
     ]
    }
   ],
   "source": [
    "# Dependencies and Setup\n",
    "import matplotlib.pyplot as plt\n",
    "import pandas as pd\n",
    "import scipy.stats as st\n",
    "import numpy as np\n",
    "\n",
    "# Study data files\n",
    "mouse_metadata = \"05-Matplotlib_homework_Instructions_Pymaceuticals_data_Mouse_metadata.csv\"\n",
    "study_results = \"05-Matplotlib_homework_Instructions_Pymaceuticals_data_Study_results.csv\"\n",
    "\n",
    "# Read the mouse data and the study results\n",
    "mouse_metadata_df = pd.read_csv(mouse_metadata)\n",
    "study_results_df = pd.read_csv(study_results)\n",
    "\n",
    "# Combine the data into a single dataset\n",
    "merge_table = pd.merge(mouse_metadata_df, study_results_df, on=\"Mouse ID\")\n",
    "print(merge_table)\n",
    "\n"
   ]
  },
  {
   "cell_type": "markdown",
   "metadata": {},
   "source": [
    "## Summary statistics"
   ]
  },
  {
   "cell_type": "code",
   "execution_count": 3,
   "metadata": {},
   "outputs": [
    {
     "name": "stdout",
     "output_type": "stream",
     "text": [
      "                                                Mean  \\\n",
      "0  Drug Regimen\n",
      "Capomulin    40.675741\n",
      "Ceftamin  ...   \n",
      "\n",
      "                                              Median  \\\n",
      "0  Drug Regimen\n",
      "Capomulin    41.557809\n",
      "Ceftamin  ...   \n",
      "\n",
      "                                            Variance  \\\n",
      "0  Drug Regimen\n",
      "Capomulin    24.947764\n",
      "Ceftamin  ...   \n",
      "\n",
      "                                  Standard Deviation  \\\n",
      "0  Drug Regimen\n",
      "Capomulin    4.994774\n",
      "Ceftamin   ...   \n",
      "\n",
      "                                      Standard Error  \n",
      "0  Drug Regimen\n",
      "Capomulin    0.329346\n",
      "Ceftamin   ...  \n"
     ]
    }
   ],
   "source": [
    "# Generate a summary statistics table of mean, median, variance, standard deviation, and SEM of the tumor volume for each regimen\n",
    "\n",
    "sorted_by_drug_regimen = merge_table.groupby([\"Drug Regimen\"])\n",
    "\n",
    "means = sorted_by_drug_regimen['Tumor Volume (mm3)'].mean()\n",
    "medians = sorted_by_drug_regimen['Tumor Volume (mm3)'].median()\n",
    "variance = sorted_by_drug_regimen['Tumor Volume (mm3)'].var()\n",
    "st_dev = sorted_by_drug_regimen['Tumor Volume (mm3)'].std()\n",
    "sem = sorted_by_drug_regimen['Tumor Volume (mm3)'].sem()\n",
    "\n",
    "summary_table = pd.DataFrame([[means,medians,variance, st_dev, sem]],columns=['Mean','Median','Variance', 'Standard Deviation', 'Standard Error'])\n",
    "print(summary_table)"
   ]
  },
  {
   "cell_type": "markdown",
   "metadata": {},
   "source": [
    "## Bar plots"
   ]
  },
  {
   "cell_type": "code",
   "execution_count": 4,
   "metadata": {},
   "outputs": [
    {
     "name": "stdout",
     "output_type": "stream",
     "text": [
      "AxesSubplot(0.125,0.125;0.775x0.755)\n"
     ]
    },
    {
     "data": {
      "image/png": "[encoded data removed]",
      "text/plain": [
       "<Figure size 432x288 with 1 Axes>"
      ]
     },
     "metadata": {
      "needs_background": "light"
     },
     "output_type": "display_data"
    }
   ],
   "source": [
    "# Generate a bar plot showing number of data points for each treatment regimen using pandas\n",
    "data_points_count = sorted_by_drug_regimen[\"Mouse ID\"].count()\n",
    "\n",
    "print(data_points_count.plot(kind = 'bar'))\n"
   ]
  },
  {
   "cell_type": "code",
   "execution_count": 5,
   "metadata": {},
   "outputs": [
    {
     "data": {
      "text/plain": [
       "([<matplotlib.axis.XTick at 0x21204689c08>,\n",
       "  <matplotlib.axis.XTick at 0x212082be248>,\n",
       "  <matplotlib.axis.XTick at 0x212082bae08>,\n",
       "  <matplotlib.axis.XTick at 0x212092d2888>,\n",
       "  <matplotlib.axis.XTick at 0x212092d7208>,\n",
       "  <matplotlib.axis.XTick at 0x212092d7708>,\n",
       "  <matplotlib.axis.XTick at 0x212092dc208>,\n",
       "  <matplotlib.axis.XTick at 0x212092d7e48>,\n",
       "  <matplotlib.axis.XTick at 0x212092dcac8>,\n",
       "  <matplotlib.axis.XTick at 0x212092e0708>],\n",
       " <a list of 10 Text xticklabel objects>)"
      ]
     },
     "execution_count": 5,
     "metadata": {},
     "output_type": "execute_result"
    },
    {
     "data": {
      "image/png": "[encoded data removed]",
      "text/plain": [
       "<Figure size 432x288 with 1 Axes>"
      ]
     },
     "metadata": {
      "needs_background": "light"
     },
     "output_type": "display_data"
    }
   ],
   "source": [
    "#Generate a bar plot showing number of data points for each treatment regimen using pyplot\n",
    "x_axis_labels = merge_table[\"Drug Regimen\"].unique()\n",
    "\n",
    "x_axis = np.arange(len(x_axis_labels))\n",
    "y_axis = sorted_by_drug_regimen[\"Mouse ID\"].count()\n",
    "\n",
    "plt.bar(x_axis, y_axis, color='r', alpha=.5, align=\"center\")\n",
    "\n",
    "tick_locations = [value for value in x_axis] \n",
    "\n",
    "plt.xticks(tick_locations, x_axis_labels)\n",
    "\n",
    "#plt.xlim(-0.75, len(x_axis)-0.25) \n",
    "#plt.ylim(1500, max(y_axis)+100"
   ]
  },
  {
   "cell_type": "markdown",
   "metadata": {},
   "source": [
    "## Pie plots"
   ]
  },
  {
   "cell_type": "code",
   "execution_count": 6,
   "metadata": {},
   "outputs": [
    {
     "name": "stdout",
     "output_type": "stream",
     "text": [
      "AxesSubplot(0.260833,0.125;0.503333x0.755)\n"
     ]
    },
    {
     "data": {
      "image/png": "[encoded data removed]",
      "text/plain": [
       "<Figure size 432x288 with 1 Axes>"
      ]
     },
     "metadata": {},
     "output_type": "display_data"
    }
   ],
   "source": [
    "# Generate a pie plot showing the distribution of female versus male mice using pandas\n",
    "sorted_by_sex = merge_table.groupby([\"Sex\"])\n",
    "\n",
    "m_f_count = sorted_by_sex['Sex'].count()\n",
    "\n",
    "print(m_f_count.plot(kind = 'pie'))"
   ]
  },
  {
   "cell_type": "code",
   "execution_count": 7,
   "metadata": {},
   "outputs": [
    {
     "name": "stdout",
     "output_type": "stream",
     "text": [
      "([<matplotlib.patches.Wedge object at 0x000002120938CFC8>, <matplotlib.patches.Wedge object at 0x00000212093971C8>], [Text(-0.6908564105755949, -0.8559891471079557, 'Males'), Text(0.690856410575595, 0.8559891471079556, 'Females')], [Text(-0.37683076940486987, -0.46690317114979396, '50.6%'), Text(0.3768307694048699, 0.46690317114979385, '49.4%')])\n"
     ]
    },
    {
     "data": {
      "image/png": "[encoded data removed]",
      "text/plain": [
       "<Figure size 432x288 with 1 Axes>"
      ]
     },
     "metadata": {},
     "output_type": "display_data"
    }
   ],
   "source": [
    "# Generate a pie plot showing the distribution of female versus male mice using pyplot\n",
    "males = len(merge_table.loc[merge_table[\"Sex\"] == \"Male\", :])\n",
    "females = len(merge_table.loc[merge_table[\"Sex\"] == \"Female\", :])\n",
    "\n",
    "# Labels for the sections of the pie chart\n",
    "labels = [\"Males\", \"Females\"]\n",
    "\n",
    "# The values of each section of the pie chart\n",
    "sexes = [males, females]\n",
    "\n",
    "print(plt.pie(sexes, labels=labels, autopct=\"%1.1f%%\", shadow=True, startangle=140))"
   ]
  },
  {
   "cell_type": "markdown",
   "metadata": {},
   "source": [
    "## Quartiles, outliers and boxplots"
   ]
  },
  {
   "cell_type": "code",
   "execution_count": 23,
   "metadata": {},
   "outputs": [
    {
     "name": "stdout",
     "output_type": "stream",
     "text": [
      "---------------------------------------------------------\n",
      "Ramicane Group IDs and Final Tumor Sizes\n",
      "    Mouse ID  Tumor Volume (mm3)\n",
      "9       k403           22.050126\n",
      "49      g791           29.128472\n",
      "59      s508           30.276232\n",
      "74      m546           30.564625\n",
      "84      z578           30.638696\n",
      "94      j913           31.560470\n",
      "114     n364           31.095335\n",
      "154     c758           33.397653\n",
      "174     a644           32.978522\n",
      "184     i177           33.562402\n",
      "194     j989           36.134852\n",
      "214     a520           38.810366\n",
      "234     r811           37.225650\n",
      "254     i334           36.374510\n",
      "272     d251           37.311236\n",
      "327     a411           38.407618\n",
      "400     e662           40.659006\n",
      "410     u196           40.667713\n",
      "420     q597           45.220869\n",
      "430     a444           43.047543\n",
      "We expect the lower limit for this data set to be 19.690480101250003 and the upper limit to be 49.79900043124999\n",
      "Therefore, there are no outliers.\n",
      "---------------------------------------------------------\n",
      "Capomulin Group IDs and Final Tumor Sizes\n",
      "    Mouse ID  Tumor Volume (mm3)\n",
      "19      s185           23.343598\n",
      "29      x401           28.484033\n",
      "39      m601           28.430964\n",
      "104     u364           31.023923\n",
      "124     y793           31.896238\n",
      "134     r554           32.377357\n",
      "144     m957           33.329098\n",
      "164     t565           34.455298\n",
      "204     i738           37.311846\n",
      "224     w914           36.041047\n",
      "244     g288           37.074024\n",
      "282     l897           38.846876\n",
      "299     b742           38.939633\n",
      "309     b128           38.982878\n",
      "337     j119           38.125164\n",
      "350     v923           40.658124\n",
      "360     g316           40.159220\n",
      "370     s710           40.728578\n",
      "380     l509           41.483008\n",
      "390     r944           41.581521\n",
      "440     i557           47.685963\n",
      "We expect the lower limit for this data set to be 20.70456164999999 and the upper limit to be 51.83201549\n",
      "Therefore, there are no outliers.\n",
      "---------------------------------------------------------\n",
      "Infubinol Group IDs and Final Tumor Sizes\n",
      "     Mouse ID  Tumor Volume (mm3)\n",
      "463      a203           67.973419\n",
      "473      a251           65.525743\n",
      "540      a685           66.083066\n",
      "637      c139           72.226731\n",
      "800      e476           62.435404\n",
      "834      f345           60.918767\n",
      "1053     k483           66.196912\n",
      "1813     y163           67.685569\n",
      "1872     z581           62.754451\n",
      "We expect the lower limit for this data set to be 55.35777559500001 and the upper limit to be 75.08224443499999\n",
      "Therefore, there are no outliers.\n",
      "---------------------------------------------------------\n",
      "Ceftamin Group IDs and Final Tumor Sizes\n",
      "     Mouse ID  Tumor Volume (mm3)\n",
      "493      a275           62.999356\n",
      "993      j296           61.849023\n",
      "1033     k210           68.923185\n",
      "1112     l471           67.748662\n",
      "1132     l661           59.851956\n",
      "1162     l733           64.299830\n",
      "1260     o287           59.741901\n",
      "1379     p438           61.433892\n",
      "1670     w151           67.527482\n",
      "1773     x581           64.634949\n",
      "1797     x822           61.386660\n",
      "1845     y769           68.594745\n",
      "1855     y865           64.729837\n",
      "We expect the lower limit for this data set to be 52.29350701999999 and the upper limit to be 76.66786758\n",
      "Therefore, there are no outliers.\n"
     ]
    }
   ],
   "source": [
    "# Calculate the final tumor volume of each mouse across Capomulin, Ramicane, Infubinol, and Ceftamin treatment regimens. Calculate the IQR and quantitatively determine if there are any potential outliers. \n",
    "\n",
    "ramicane_df = (merge_table.loc[merge_table[\"Drug Regimen\"] == \"Ramicane\", :])\n",
    "capomulin_df = (merge_table.loc[merge_table[\"Drug Regimen\"] == \"Capomulin\", :])\n",
    "infubinol_df = (merge_table.loc[merge_table[\"Drug Regimen\"] == \"Infubinol\", :])\n",
    "ceftamin_df = (merge_table.loc[merge_table[\"Drug Regimen\"] == \"Ceftamin\", :])\n",
    "\n",
    "ramicane_final = ramicane_df.loc[ramicane_df[\"Timepoint\"] == 45]\n",
    "print(\"---------------------------------------------------------\")\n",
    "print(\"Ramicane Group IDs and Final Tumor Sizes\")\n",
    "print(ramicane_final[[\"Mouse ID\", \"Tumor Volume (mm3)\"]])\n",
    "\n",
    "ramicane_final_tumor_sizes = ramicane_final[\"Tumor Volume (mm3)\"]\n",
    "ramicane_quartiles = ramicane_final_tumor_sizes.quantile([.25,.5,.75])\n",
    "ramicane_lowerq = ramicane_quartiles[0.25]\n",
    "ramicane_upperq = ramicane_quartiles[0.75]\n",
    "ramicane_iqr = ramicane_upperq-ramicane_lowerq\n",
    "ramicane_lower_limit = ramicane_lowerq - (1.5 * ramicane_iqr)\n",
    "ramicane_upper_limit = ramicane_upperq + (1.5 * ramicane_iqr)\n",
    "\n",
    "print(f\"We expect the lower limit for this data set to be {ramicane_lower_limit} and the upper limit to be {ramicane_upper_limit}\")\n",
    "print(\"Therefore, there are no outliers.\")\n",
    "\n",
    "\n",
    "capomulin_final = capomulin_df.loc[capomulin_df[\"Timepoint\"] == 45]\n",
    "print(\"---------------------------------------------------------\")\n",
    "print(\"Capomulin Group IDs and Final Tumor Sizes\")\n",
    "print(capomulin_final[[\"Mouse ID\", \"Tumor Volume (mm3)\"]])\n",
    "\n",
    "capomulin_final_tumor_sizes = capomulin_final[\"Tumor Volume (mm3)\"]\n",
    "capomulin_quartiles = capomulin_final_tumor_sizes.quantile([.25,.5,.75])\n",
    "capomulin_lowerq = capomulin_quartiles[0.25]\n",
    "capomulin_upperq = capomulin_quartiles[0.75]\n",
    "capomulin_iqr = capomulin_upperq - capomulin_lowerq\n",
    "capomulin_lower_limit = capomulin_lowerq - (1.5 * capomulin_iqr)\n",
    "capomulin_upper_limit = capomulin_upperq + (1.5 * capomulin_iqr)\n",
    "\n",
    "print(f\"We expect the lower limit for this data set to be {capomulin_lower_limit} and the upper limit to be {capomulin_upper_limit}\")\n",
    "print(\"Therefore, there are no outliers.\")\n",
    "\n",
    "\n",
    "infubinol_final = infubinol_df.loc[infubinol_df[\"Timepoint\"] == 45]\n",
    "print(\"---------------------------------------------------------\")\n",
    "print(\"Infubinol Group IDs and Final Tumor Sizes\")\n",
    "print(infubinol_final[[\"Mouse ID\", \"Tumor Volume (mm3)\"]])\n",
    "\n",
    "infubinol_final_tumor_sizes = infubinol_final[\"Tumor Volume (mm3)\"]\n",
    "infubinol_quartiles = infubinol_final_tumor_sizes.quantile([.25,.5,.75])\n",
    "infubinol_lowerq = infubinol_quartiles[0.25]\n",
    "infubinol_upperq = infubinol_quartiles[0.75]\n",
    "infubinol_iqr = infubinol_upperq - infubinol_lowerq\n",
    "infubinol_lower_limit = infubinol_lowerq - (1.5 * infubinol_iqr)\n",
    "infubinol_upper_limit = infubinol_upperq + (1.5 * infubinol_iqr)\n",
    "\n",
    "print(f\"We expect the lower limit for this data set to be {infubinol_lower_limit} and the upper limit to be {infubinol_upper_limit}\")\n",
    "print(\"Therefore, there are no outliers.\")\n",
    "\n",
    "ceftamin_final = ceftamin_df.loc[ceftamin_df[\"Timepoint\"] == 45]\n",
    "print(\"---------------------------------------------------------\")\n",
    "print(\"Ceftamin Group IDs and Final Tumor Sizes\")\n",
    "print(ceftamin_final[[\"Mouse ID\", \"Tumor Volume (mm3)\"]])\n",
    "\n",
    "ceftamin_final_tumor_sizes = ceftamin_final[\"Tumor Volume (mm3)\"]\n",
    "ceftamin_quartiles = ceftamin_final_tumor_sizes.quantile([.25,.5,.75])\n",
    "ceftamin_lowerq = ceftamin_quartiles[0.25]\n",
    "ceftamin_upperq = ceftamin_quartiles[0.75]\n",
    "ceftamin_iqr = ceftamin_upperq - ceftamin_lowerq\n",
    "ceftamin_lower_limit = ceftamin_lowerq - (1.5 * ceftamin_iqr) \n",
    "ceftamin_upper_limit = ceftamin_upperq + (1.5 * ceftamin_iqr)\n",
    "\n",
    "print(f\"We expect the lower limit for this data set to be {ceftamin_lower_limit} and the upper limit to be {ceftamin_upper_limit}\")\n",
    "print(\"Therefore, there are no outliers.\")\n"
   ]
  },
  {
   "cell_type": "code",
   "execution_count": 25,
   "metadata": {},
   "outputs": [
    {
     "data": {
      "image/png": "[encoded data removed]",
      "text/plain": [
       "<Figure size 432x288 with 1 Axes>"
      ]
     },
     "metadata": {
      "needs_background": "light"
     },
     "output_type": "display_data"
    }
   ],
   "source": [
    "# Generate a box plot of the final tumor volume of each mouse across four regimens of interest\n",
    "final_tumors_list = [ramicane_final_tumor_sizes, capomulin_final_tumor_sizes,infubinol_final_tumor_sizes,ceftamin_final_tumor_sizes]\n",
    "fig1, ax1 = plt.subplots()\n",
    "ax1.set_title('Final Tumor Sizes of Mice in Ramicane, Capomulin, Infubinol, and Ceftamin Groups')\n",
    "ax1.set_ylabel('Tumor Volume (mm3)')\n",
    "ax1.set_xlabel([\"Ramicane\", \"Capomulin\",\"Infubinol\",\"Ceftamin\"])\n",
    "ax1.boxplot(final_tumors_list)\n",
    "plt.show()"
   ]
  },
  {
   "cell_type": "markdown",
   "metadata": {},
   "source": [
    "## Line and scatter plots"
   ]
  },
  {
   "cell_type": "code",
   "execution_count": 28,
   "metadata": {},
   "outputs": [
    {
     "data": {
      "text/plain": [
       "Text(0, 0.5, 'Tumor Volume (mm3)')"
      ]
     },
     "execution_count": 28,
     "metadata": {},
     "output_type": "execute_result"
    },
    {
     "data": {
      "image/png": "[encoded data removed]",
      "text/plain": [
       "<Figure size 432x288 with 1 Axes>"
      ]
     },
     "metadata": {
      "needs_background": "light"
     },
     "output_type": "display_data"
    }
   ],
   "source": [
    "# Generate a line plot of time point versus tumor volume for a mouse treated with Capomulin\n",
    "#Analyzing the mouse with the most promising result, ID s185\n",
    "s185_df = (merge_table.loc[merge_table[\"Mouse ID\"] == \"s185\", :])\n",
    "s185_timepoints = s185_df[\"Timepoint\"]\n",
    "s185_tumor_size = s185_df[\"Tumor Volume (mm3)\"]\n",
    "\n",
    "plt.scatter(s185_timepoints, s185_tumor_size, marker=\"o\", facecolors=\"red\", edgecolors=\"black\")\n",
    "\n",
    "plt.title(\"Mouse ID s185 Tumor Size as a Function of Time\")\n",
    "plt.xlabel(\"Timepoints\")\n",
    "plt.ylabel(\"Tumor Volume (mm3)\")"
   ]
  },
  {
   "cell_type": "code",
   "execution_count": 10,
   "metadata": {},
   "outputs": [],
   "source": [
    "# Generate a scatter plot of mouse weight versus average tumor volume for the Capomulin regimen"
   ]
  },
  {
   "cell_type": "code",
   "execution_count": 11,
   "metadata": {},
   "outputs": [],
   "source": [
    "# Calculate the correlation coefficient and linear regression model for mouse weight and average tumor volume for the Capomulin regimen"
   ]
  },
  {
   "cell_type": "code",
   "execution_count": null,
   "metadata": {},
   "outputs": [],
   "source": []
  }
 ],
 "metadata": {
  "anaconda-cloud": {},
  "kernelspec": {
   "display_name": "Python 3",
   "language": "python",
   "name": "python3"
  },
  "language_info": {
   "codemirror_mode": {
    "name": "ipython",
    "version": 3
   },
   "file_extension": ".py",
   "mimetype": "text/x-python",
   "name": "python",
   "nbconvert_exporter": "python",
   "pygments_lexer": "ipython3",
   "version": "3.7.4"
  }
 },
 "nbformat": 4,
 "nbformat_minor": 2
}
