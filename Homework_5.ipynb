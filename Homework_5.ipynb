{
 "cells": [
  {
   "cell_type": "markdown",
   "metadata": {},
   "source": [
    "## Observations and Insights"
   ]
  },
  {
   "cell_type": "markdown",
   "metadata": {},
   "source": []
  },
  {
   "cell_type": "markdown",
   "metadata": {},
   "source": [
    "## Dependencies and starter code"
   ]
  },
  {
   "cell_type": "code",
   "execution_count": 33,
   "metadata": {},
   "outputs": [
    {
     "name": "stdout",
     "output_type": "stream",
     "text": [
      "     Mouse ID Drug Regimen   Sex  Age_months  Weight (g)  Timepoint  \\\n",
      "0        k403     Ramicane  Male          21          16          0   \n",
      "1        k403     Ramicane  Male          21          16          5   \n",
      "2        k403     Ramicane  Male          21          16         10   \n",
      "3        k403     Ramicane  Male          21          16         15   \n",
      "4        k403     Ramicane  Male          21          16         20   \n",
      "...       ...          ...   ...         ...         ...        ...   \n",
      "1888     z969     Naftisol  Male           9          30         25   \n",
      "1889     z969     Naftisol  Male           9          30         30   \n",
      "1890     z969     Naftisol  Male           9          30         35   \n",
      "1891     z969     Naftisol  Male           9          30         40   \n",
      "1892     z969     Naftisol  Male           9          30         45   \n",
      "\n",
      "      Tumor Volume (mm3)  Metastatic Sites  \n",
      "0              45.000000                 0  \n",
      "1              38.825898                 0  \n",
      "2              35.014271                 1  \n",
      "3              34.223992                 1  \n",
      "4              32.997729                 1  \n",
      "...                  ...               ...  \n",
      "1888           63.145652                 2  \n",
      "1889           65.841013                 3  \n",
      "1890           69.176246                 4  \n",
      "1891           70.314904                 4  \n",
      "1892           73.867845                 4  \n",
      "\n",
      "[1893 rows x 8 columns]\n"
     ]
    }
   ],
   "source": [
    "# Dependencies and Setup\n",
    "import matplotlib.pyplot as plt\n",
    "import pandas as pd\n",
    "import scipy.stats as st\n",
    "import numpy as np\n",
    "\n",
    "# Study data files\n",
    "mouse_metadata = \"05-Matplotlib_homework_Instructions_Pymaceuticals_data_Mouse_metadata.csv\"\n",
    "study_results = \"05-Matplotlib_homework_Instructions_Pymaceuticals_data_Study_results.csv\"\n",
    "\n",
    "# Read the mouse data and the study results\n",
    "mouse_metadata_df = pd.read_csv(mouse_metadata)\n",
    "study_results_df = pd.read_csv(study_results)\n",
    "\n",
    "# Combine the data into a single dataset\n",
    "merge_table = pd.merge(mouse_metadata_df, study_results_df, on=\"Mouse ID\")\n",
    "print(merge_table)\n",
    "\n"
   ]
  },
  {
   "cell_type": "markdown",
   "metadata": {},
   "source": [
    "## Summary statistics"
   ]
  },
  {
   "cell_type": "code",
   "execution_count": 34,
   "metadata": {},
   "outputs": [
    {
     "name": "stdout",
     "output_type": "stream",
     "text": [
      "                                                Mean  \\\n",
      "0  Drug Regimen\n",
      "Capomulin    40.675741\n",
      "Ceftamin  ...   \n",
      "\n",
      "                                              Median  \\\n",
      "0  Drug Regimen\n",
      "Capomulin    41.557809\n",
      "Ceftamin  ...   \n",
      "\n",
      "                                            Variance  \\\n",
      "0  Drug Regimen\n",
      "Capomulin    24.947764\n",
      "Ceftamin  ...   \n",
      "\n",
      "                                  Standard Deviation  \\\n",
      "0  Drug Regimen\n",
      "Capomulin    4.994774\n",
      "Ceftamin   ...   \n",
      "\n",
      "                                      Standard Error  \n",
      "0  Drug Regimen\n",
      "Capomulin    0.329346\n",
      "Ceftamin   ...  \n"
     ]
    }
   ],
   "source": [
    "# Generate a summary statistics table of mean, median, variance, standard deviation, and SEM of the tumor volume for each regimen\n",
    "\n",
    "sorted_by_drug_regimen = merge_table.groupby([\"Drug Regimen\"])\n",
    "\n",
    "means = sorted_by_drug_regimen['Tumor Volume (mm3)'].mean()\n",
    "medians = sorted_by_drug_regimen['Tumor Volume (mm3)'].median()\n",
    "variance = sorted_by_drug_regimen['Tumor Volume (mm3)'].var()\n",
    "st_dev = sorted_by_drug_regimen['Tumor Volume (mm3)'].std()\n",
    "sem = sorted_by_drug_regimen['Tumor Volume (mm3)'].sem()\n",
    "\n",
    "summary_table = pd.DataFrame([[means,medians,variance, st_dev, sem]],columns=['Mean','Median','Variance', 'Standard Deviation', 'Standard Error'])\n",
    "print(summary_table)"
   ]
  },
  {
   "cell_type": "markdown",
   "metadata": {},
   "source": [
    "## Bar plots"
   ]
  },
  {
   "cell_type": "code",
   "execution_count": 35,
   "metadata": {},
   "outputs": [],
   "source": [
    "# Generate a bar plot showing number of data points for each treatment regimen using pandas\n",
    "x_axis_labels = merge_table[\"Drug Regimen\"].unique()\n",
    "\n",
    "x_axis = np.arange(len(x_axis_labels))\n",
    "y_axis = merge_table[\"Drug Regimen\"].value_counts()\n",
    "\n",
    "#print(merge_table.plot.bar(x=x_axis, y=y_axis))\n"
   ]
  },
  {
   "cell_type": "code",
   "execution_count": 36,
   "metadata": {},
   "outputs": [
    {
     "data": {
      "text/plain": [
       "([<matplotlib.axis.XTick at 0x1a1fcf3b00>,\n",
       "  <matplotlib.axis.XTick at 0x1a1fea7f28>,\n",
       "  <matplotlib.axis.XTick at 0x1a1fea7cc0>,\n",
       "  <matplotlib.axis.XTick at 0x1a1ff85a20>,\n",
       "  <matplotlib.axis.XTick at 0x1a1ff85ef0>,\n",
       "  <matplotlib.axis.XTick at 0x1a1ff8f400>,\n",
       "  <matplotlib.axis.XTick at 0x1a2006db00>,\n",
       "  <matplotlib.axis.XTick at 0x1a1ff8fa20>,\n",
       "  <matplotlib.axis.XTick at 0x1a1ff8f080>,\n",
       "  <matplotlib.axis.XTick at 0x1a1ff96588>],\n",
       " <a list of 10 Text xticklabel objects>)"
      ]
     },
     "execution_count": 36,
     "metadata": {},
     "output_type": "execute_result"
    },
    {
     "data": {
      "image/png": "[encoded data removed]",
      "text/plain": [
       "<Figure size 432x288 with 1 Axes>"
      ]
     },
     "metadata": {
      "needs_background": "light"
     },
     "output_type": "display_data"
    }
   ],
   "source": [
    "#Generate a bar plot showing number of data points for each treatment regimen using pyplot\n",
    "plt.bar(x_axis, y_axis, color='r', alpha=.5, align=\"center\")\n",
    "\n",
    "tick_locations = [value for value in x_axis] \n",
    "\n",
    "plt.xticks(tick_locations, x_axis_labels)\n",
    "\n",
    "#plt.xlim(-0.75, len(x_axis)-0.25) \n",
    "#plt.ylim(1500, max(y_axis)+100"
   ]
  },
  {
   "cell_type": "markdown",
   "metadata": {},
   "source": [
    "## Pie plots"
   ]
  },
  {
   "cell_type": "code",
   "execution_count": 5,
   "metadata": {},
   "outputs": [],
   "source": [
    "# Generate a pie plot showing the distribution of female versus male mice using pandas\n"
   ]
  },
  {
   "cell_type": "code",
   "execution_count": 43,
   "metadata": {},
   "outputs": [
    {
     "name": "stdout",
     "output_type": "stream",
     "text": [
      "([<matplotlib.patches.Wedge object at 0x1a2029b860>, <matplotlib.patches.Wedge object at 0x1a202a9278>], [Text(-0.6908564105755949, -0.8559891471079557, 'Males'), Text(0.690856410575595, 0.8559891471079556, 'Females')], [Text(-0.37683076940486987, -0.46690317114979396, '50.6%'), Text(0.3768307694048699, 0.46690317114979385, '49.4%')])\n"
     ]
    },
    {
     "data": {
      "image/png": "[encoded data removed]",
      "text/plain": [
       "<Figure size 432x288 with 1 Axes>"
      ]
     },
     "metadata": {},
     "output_type": "display_data"
    }
   ],
   "source": [
    "# Generate a pie plot showing the distribution of female versus male mice using pyplot\n",
    "males = len(merge_table.loc[merge_table[\"Sex\"] == \"Male\", :])\n",
    "females = len(merge_table.loc[merge_table[\"Sex\"] == \"Female\", :])\n",
    "\n",
    "# Labels for the sections of the pie chart\n",
    "labels = [\"Males\", \"Females\"]\n",
    "\n",
    "# The values of each section of the pie chart\n",
    "sexes = [males, females]\n",
    "\n",
    "print(plt.pie(sexes, labels=labels, autopct=\"%1.1f%%\", shadow=True, startangle=140))"
   ]
  },
  {
   "cell_type": "markdown",
   "metadata": {},
   "source": [
    "## Quartiles, outliers and boxplots"
   ]
  },
  {
   "cell_type": "code",
   "execution_count": 65,
   "metadata": {},
   "outputs": [
    {
     "name": "stdout",
     "output_type": "stream",
     "text": [
      "    Mouse ID  Timepoint  Tumor Volume (mm3)\n",
      "0       k403          0                45.0\n",
      "40      g791          0                45.0\n",
      "50      s508          0                45.0\n",
      "65      m546          0                45.0\n",
      "75      z578          0                45.0\n",
      "85      j913          0                45.0\n",
      "105     n364          0                45.0\n",
      "145     c758          0                45.0\n",
      "165     a644          0                45.0\n",
      "175     i177          0                45.0\n",
      "185     j989          0                45.0\n",
      "205     a520          0                45.0\n",
      "225     r811          0                45.0\n",
      "245     i334          0                45.0\n",
      "255     q610          0                45.0\n",
      "263     d251          0                45.0\n",
      "283     c458          0                45.0\n",
      "318     a411          0                45.0\n",
      "391     e662          0                45.0\n",
      "401     u196          0                45.0\n",
      "411     q597          0                45.0\n",
      "421     a444          0                45.0\n",
      "441     r921          0                45.0\n",
      "448     w678          0                45.0\n",
      "450     y449          0                45.0\n"
     ]
    }
   ],
   "source": [
    "# Calculate the final tumor volume of each mouse across four of the most promising treatment regimens. Calculate the IQR and quantitatively determine if there are any potential outliers. \n",
    "\n",
    "#Find lowest average tumor volume per drug regimen\n",
    "#print(sorted_by_drug_regimen.mean())\n",
    "\n",
    "#Ramicane, Capomulin, Propiva, Ceftamin are the four with the lowest average tumor volume\n",
    "\n",
    "ramicane_df = (merge_table.loc[merge_table[\"Drug Regimen\"] == \"Ramicane\", :])\n",
    "capomulin_df = (merge_table.loc[merge_table[\"Drug Regimen\"] == \"Capomulin\", :])\n",
    "propiva_df = (merge_table.loc[merge_table[\"Drug Regimen\"] == \"Propiva\", :])\n",
    "ceftamin_df = (merge_table.loc[merge_table[\"Drug Regimen\"] == \"Ceftamin\", :])\n",
    "\n",
    "new_ramicane = ramicane_df.loc[ramicane_df[\"Timepoint\"] == 0]\n",
    "print(new_ramicane[[\"Mouse ID\", \"Timepoint\", \"Tumor Volume (mm3)\"]])\n",
    "\n",
    "#df.loc[df.set_of_numbers > 4, 'equal_or_lower_than_4?'] = 'False'\n",
    "#If statement?\n"
   ]
  },
  {
   "cell_type": "code",
   "execution_count": 8,
   "metadata": {},
   "outputs": [],
   "source": [
    "# Generate a box plot of the final tumor volume of each mouse across four regimens of interest"
   ]
  },
  {
   "cell_type": "markdown",
   "metadata": {},
   "source": [
    "## Line and scatter plots"
   ]
  },
  {
   "cell_type": "code",
   "execution_count": 9,
   "metadata": {},
   "outputs": [],
   "source": [
    "# Generate a line plot of time point versus tumor volume for a mouse treated with Capomulin"
   ]
  },
  {
   "cell_type": "code",
   "execution_count": 10,
   "metadata": {},
   "outputs": [],
   "source": [
    "# Generate a scatter plot of mouse weight versus average tumor volume for the Capomulin regimen"
   ]
  },
  {
   "cell_type": "code",
   "execution_count": 11,
   "metadata": {},
   "outputs": [],
   "source": [
    "# Calculate the correlation coefficient and linear regression model for mouse weight and average tumor volume for the Capomulin regimen"
   ]
  },
  {
   "cell_type": "code",
   "execution_count": null,
   "metadata": {},
   "outputs": [],
   "source": []
  }
 ],
 "metadata": {
  "anaconda-cloud": {},
  "kernelspec": {
   "display_name": "Python 3",
   "language": "python",
   "name": "python3"
  },
  "language_info": {
   "codemirror_mode": {
    "name": "ipython",
    "version": 3
   },
   "file_extension": ".py",
   "mimetype": "text/x-python",
   "name": "python",
   "nbconvert_exporter": "python",
   "pygments_lexer": "ipython3",
   "version": "3.7.3"
  }
 },
 "nbformat": 4,
 "nbformat_minor": 2
}
